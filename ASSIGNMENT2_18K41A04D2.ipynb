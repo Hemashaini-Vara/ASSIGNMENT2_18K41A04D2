{
 "cells": [
  {
   "cell_type": "code",
   "execution_count": 10,
   "metadata": {},
   "outputs": [
    {
     "name": "stdout",
     "output_type": "stream",
     "text": [
      "Enter sides of triangle separated by space 5 7 10\n",
      "16.24807680927192\n"
     ]
    }
   ],
   "source": [
    "#1. Area of Triangle :Given  the  lengths  of  three  sides  of  a  triangle,  calculate  the  area  of the triangle. \n",
    "import math\n",
    "sidesl=input(\"Enter sides of triangle separated by space: \")\n",
    "sides=sidesl.split()\n",
    "s=0\n",
    "for side in sides:\n",
    "    s+= int(side)\n",
    "s=s/2\n",
    "print(math.sqrt(s*(s-int(sides[0]))*(s-int(sides[1]))*(s-int(sides[2]))))"
   ]
  },
  {
   "cell_type": "code",
   "execution_count": 14,
   "metadata": {},
   "outputs": [
    {
     "name": "stdout",
     "output_type": "stream",
     "text": [
      "Enter a stringgey\n",
      "Not a Palindrome\n"
     ]
    }
   ],
   "source": [
    "#2. Take a string from end user and check if the value is palindrome or not\n",
    "string=input(\"Enter a string: \")\n",
    "rev=string[::-1]\n",
    "if string==rev:\n",
    "    print(\"Palindrome\")\n",
    "else:\n",
    "    print(\"Not a Palindrome\")\n"
   ]
  },
  {
   "cell_type": "code",
   "execution_count": 17,
   "metadata": {},
   "outputs": [
    {
     "name": "stdout",
     "output_type": "stream",
     "text": [
      "Enter year: 1700\n",
      "1700 is not a leap year\n"
     ]
    }
   ],
   "source": [
    "#3. Write a program that reads a year from the user and displays a message Indicating whether or not it is a leap year.\n",
    "year = int(input(\"Enter year to find out if it's a leap year or not: \"))\n",
    "if (year % 4) == 0:\n",
    "   if (year % 100) == 0:\n",
    "       if (year % 400) == 0:\n",
    "           print(str(year)+\" is a leap year\")\n",
    "       else:\n",
    "           print(str(year)+\" is not a leap year\")\n",
    "   else:\n",
    "       print(str(year)+\" is a leap year\")\n",
    "else:\n",
    "   print(str(year)+\" is not a leap year\")"
   ]
  },
  {
   "cell_type": "code",
   "execution_count": 22,
   "metadata": {},
   "outputs": [
    {
     "name": "stdout",
     "output_type": "stream",
     "text": [
      "Enter a string: This program converts spaces into hyphen\n"
     ]
    },
    {
     "data": {
      "text/plain": [
       "'This-program-converts-spaces-into-hyphen'"
      ]
     },
     "execution_count": 22,
     "metadata": {},
     "output_type": "execute_result"
    }
   ],
   "source": [
    "#4. Space To Hyphen problem Take a string as input, and replaces spaces “ “  with hyphens “-”, and returns a string.Input: “ This program converts spaces into hyphen”      Output:     “ This-program-converts-spaces-into-hyphen”\n",
    "string=input(\"Enter a string: \")\n",
    "string.replace(\" \", \"-\")"
   ]
  },
  {
   "cell_type": "code",
   "execution_count": 7,
   "metadata": {},
   "outputs": [
    {
     "name": "stdout",
     "output_type": "stream",
     "text": [
      "Enter string with words separated by commas: range, white, red, cyan, green, magenta, cyan, pink, white\n",
      "Output: \n",
      " cyan, green, magenta, pink, red, white,range\n"
     ]
    }
   ],
   "source": [
    "#5. Take  a  string  as  input  that  accepts  a  comma  separated  sequence  of  words as input and prints the unique words in sorted form (alphanumerically).*Input*: orange, white, red, cyan, green, magenta, cyan, pink, white*Output*: cyan, green, magenta, orange, pink, red, white\n",
    "string = input(\"Enter string with words separated by commas: \")\n",
    "words = [word for word in string.split(\",\")]\n",
    "print(\"Output: \")\n",
    "print(\",\".join(sorted(list(set(words)))))\n"
   ]
  },
  {
   "cell_type": "code",
   "execution_count": 1,
   "metadata": {},
   "outputs": [
    {
     "name": "stdout",
     "output_type": "stream",
     "text": [
      "Enter salary: 1000000\n",
      "Tax amount: 150000.0\n",
      "Salary after tax: 850000.0\n"
     ]
    }
   ],
   "source": [
    "#6. Tax CalculatorAsk  the  user  for  their  monthly  salary.  Calculate  whether  they  have  to  pay tax and if so, how much is that amount .Print the result\n",
    "def sal(taxamount,salaryaftertax):\n",
    "    print(\"Tax amount: \"+str(taxamount))\n",
    "    print(\"Salary after tax: \"+str(salaryaftertax))\n",
    "salary=int(input(\"Enter salary: \"))\n",
    "if salary<=250000:\n",
    "    print(\"Nil\")\n",
    "elif salary>=250001 and salary<=500000:\n",
    "    taxamount=salary*0.05\n",
    "    salaryaftertax=salary-taxamount\n",
    "    sal(taxamount,salaryaftertax)\n",
    "elif salary>=500001 and salary<=750000:\n",
    "    taxamount=salary*0.1\n",
    "    salaryaftertax=salary-taxamount\n",
    "    sal(taxamount,salaryaftertax)\n",
    "elif salary>=750001 and salary<=1000000:\n",
    "    taxamount=salary*0.15\n",
    "    salaryaftertax=salary-taxamount\n",
    "    sal(taxamount,salaryaftertax)\n",
    "elif salary>=1000001 and salary<=1250000:\n",
    "    taxamount=salary*0.2\n",
    "    salaryaftertax=salary-taxamount\n",
    "    sal(taxamount,salaryaftertax)\n",
    "elif salary>=1250001 and salary<=1500000:\n",
    "    taxamount=salary*0.25\n",
    "    salaryaftertax=salary-taxamount\n",
    "    sal(taxamount,salaryaftertax)\n",
    "else:\n",
    "    taxamount=salary*0.3\n",
    "    salaryaftertax=salary-taxamount\n",
    "    sal(taxamount,salaryaftertax)"
   ]
  },
  {
   "cell_type": "code",
   "execution_count": 9,
   "metadata": {},
   "outputs": [
    {
     "name": "stdout",
     "output_type": "stream",
     "text": [
      "Enter number of elements : 3\n",
      "11\n",
      "33\n",
      "50\n",
      "113350\n"
     ]
    }
   ],
   "source": [
    "#7. Take a list of integers as an argument, and converts it into a single integer (return the integer).\n",
    "lst = [] \n",
    "n = int(input(\"Enter number of elements : \"))  \n",
    "for i in range(0, n): \n",
    "    ele = input() \n",
    "    lst.append(ele)\n",
    "num = ''.join(lst)          \n",
    "num = int(num)\n",
    "print(num)"
   ]
  },
  {
   "cell_type": "code",
   "execution_count": 50,
   "metadata": {},
   "outputs": [
    {
     "name": "stdout",
     "output_type": "stream",
     "text": [
      "Enter 'Days:Hours:Minutes:Seconds' in this same format: 5:36:24:15\n",
      "563055\n"
     ]
    }
   ],
   "source": [
    "#8. Units of Time. Create  a  program  that  reads  duration  from  the  user  as  a  number  of  days, hours,  minutes,  and  seconds.  Compute  and  display  the  total  number  of seconds represented by this duration. \n",
    "string=input(\"Enter 'Days:Hours:Minutes:Seconds' in this same format: \" )\n",
    "lst=string.split(\":\")\n",
    "print((int(lst[0])*24*60*60)+(int(lst[1])*60*60)+(int(lst[2])*60)+int(lst[3]))"
   ]
  },
  {
   "cell_type": "code",
   "execution_count": 53,
   "metadata": {},
   "outputs": [
    {
     "name": "stdout",
     "output_type": "stream",
     "text": [
      "Input first number: 1\n",
      "Input second number: 9\n",
      "Input third number: 5\n",
      "Numbers in sorted order:  1 5 9\n"
     ]
    }
   ],
   "source": [
    "#9. Sort 3 IntegersGiven  three  integers  (given  through  user  input),  sort  the  numbers  using |min| and  |max| functions.\n",
    "a = int(input(\"Input first number: \"))\n",
    "b = int(input(\"Input second number: \"))\n",
    "c = int(input(\"Input third number: \"))\n",
    "mi = min(a, b, c)\n",
    "ma = max(a, b, c)\n",
    "mid = (a + b + c) - mi - ma\n",
    "print(\"Numbers in sorted order: \", mi, mid, ma)"
   ]
  },
  {
   "cell_type": "code",
   "execution_count": 59,
   "metadata": {},
   "outputs": [
    {
     "name": "stdout",
     "output_type": "stream",
     "text": [
      "Enter date in the format YYYY-MM-DD: 2020-04-15\n",
      "The next date is [yyyy-mm-dd] 2020-4-16.\n"
     ]
    }
   ],
   "source": [
    "#10. Write  a  program  that  reads  a  date  from  the  user  and  computes  its immediate successor. The date is the format YYYY-MM-DD. So, 2020-04-15 will have the successor 2020-04-16.\n",
    "date=input(\"Enter date in the format YYYY-MM-DD: \")\n",
    "lst=date.split(\"-\")\n",
    "\n",
    "year=int(lst[0])\n",
    "month=int(lst[1])\n",
    "day=int(lst[2])\n",
    "\n",
    "if (year % 4) == 0:\n",
    "   if (year % 100) == 0:\n",
    "       if (year % 400) == 0:\n",
    "            leapyear= True\n",
    "       else:\n",
    "           leapyear= False\n",
    "   else:\n",
    "       leapyear= True\n",
    "else:\n",
    "    leapyear= False\n",
    "\n",
    "\n",
    "if month in (1, 3, 5, 7, 8, 10, 12):\n",
    "    monthlen = 31\n",
    "elif month == 2:\n",
    "    if leapyear:\n",
    "        monthlen = 29\n",
    "    else:\n",
    "        monthlen = 28\n",
    "else:\n",
    "    monthlen = 30\n",
    "    \n",
    "\n",
    "if day<monthlen:\n",
    "    day += 1\n",
    "else:\n",
    "    day = 1\n",
    "    if month == 12:\n",
    "        month = 1\n",
    "        year += 1\n",
    "    else:\n",
    "        month += 1\n",
    "print(\"The next date is [yyyy-mm-dd] %d-%d-%d.\" % (year, month, day))\n"
   ]
  },
  {
   "cell_type": "code",
   "execution_count": 60,
   "metadata": {},
   "outputs": [
    {
     "name": "stdout",
     "output_type": "stream",
     "text": [
      "Enter number of elements : 8\n",
      "45\n",
      "3\n",
      "2\n",
      "89\n",
      "72\n",
      "1\n",
      "10\n",
      "7\n",
      "121111200\n"
     ]
    }
   ],
   "source": [
    "#11. Compute product of a list of numbers [45 ,3,2,89,72,1,10,7]Output: 121111200\n",
    "lst = []\n",
    "product=1\n",
    "n = int(input(\"Enter number of elements : \"))  \n",
    "for i in range(0, n): \n",
    "    ele = int(input()) \n",
    "    product=product*ele\n",
    "    lst.append(ele)\n",
    "print(product)"
   ]
  },
  {
   "cell_type": "code",
   "execution_count": 66,
   "metadata": {},
   "outputs": [
    {
     "name": "stdout",
     "output_type": "stream",
     "text": [
      "Enter number of elements : 6\n",
      "5\n",
      "6\n",
      "8\n",
      "34\n",
      "89\n",
      "1\n",
      "[11, 14, 42, 123, 90]\n"
     ]
    }
   ],
   "source": [
    "#12. Compute given Num_list =  [5, 6,8 ,34,89,1] to get desired outputOutput: Out_list=[11,14,42,123,90]\n",
    "num_list = [] \n",
    "out_list= []\n",
    "n = int(input(\"Enter number of elements : \"))  \n",
    "for i in range(0, n): \n",
    "    ele = int(input()) \n",
    "    num_list.append(ele)\n",
    "for i in range(0,n-1):\n",
    "    ele= num_list[i]+num_list[i+1]\n",
    "    out_list.append(ele)\n",
    "print(out_list)"
   ]
  },
  {
   "cell_type": "code",
   "execution_count": 73,
   "metadata": {},
   "outputs": [
    {
     "name": "stdout",
     "output_type": "stream",
     "text": [
      "Enter number of elements : 6\n",
      "5\n",
      "6\n",
      "8\n",
      "3\n",
      "9\n",
      "1\n",
      "[5, 30, 240, 720, 6480, 6480]\n"
     ]
    }
   ],
   "source": [
    "#13. Compute given Num_tuple =  (5, 6,8 ,3,9,1) to get desired outputOutput: Out_list = [5, 30, 240, 720, 6480, 6480]\n",
    "lst = [] \n",
    "out_list=[]\n",
    "n = int(input(\"Enter number of elements : \"))  \n",
    "for i in range(0, n): \n",
    "    ele = int(input()) \n",
    "    lst.append(ele)\n",
    "tupl=tuple(lst) #converted to tuple here\n",
    "ele=1\n",
    "for i in range(0,n-1):\n",
    "    ele= tupl[i]*ele\n",
    "    out_list.append(ele)\n",
    "out_list.append(ele)\n",
    "print(out_list)"
   ]
  },
  {
   "cell_type": "code",
   "execution_count": 78,
   "metadata": {},
   "outputs": [
    {
     "name": "stdout",
     "output_type": "stream",
     "text": [
      "Enter number: 586392\n",
      "[5, 8, 6, 3, 9, 2]\n"
     ]
    }
   ],
   "source": [
    "#14. Write a Python code that takes a number and returns a list of its digits. So for 586392 it should return [5,8,6,3,9,2]\n",
    "num= input(\"Enter number: \")\n",
    "lst=[]\n",
    "l=len(num)\n",
    "for i in range(0,l):\n",
    "    lst.append(int(num[i]))\n",
    "print(lst)"
   ]
  },
  {
   "cell_type": "code",
   "execution_count": 12,
   "metadata": {},
   "outputs": [
    {
     "name": "stdout",
     "output_type": "stream",
     "text": [
      "Enter string: abbccbb\n",
      "LONGEST SUBSTRING:  bbccbb\n"
     ]
    }
   ],
   "source": [
    "#15.Write a program that finds the longest palindromic substring of a given string\n",
    "string=input(\"Enter string: \")\n",
    "l=len(string)\n",
    "maxle=1\n",
    "newstr=\"\"\n",
    "for i in range(0,l):\n",
    "    for j in range(i+1,l):\n",
    "        for k in range(j,i-1,-1):\n",
    "            newstr=string[k]+newstr\n",
    "        le=len(newstr)\n",
    "        rev=newstr[::-1]\n",
    "        if newstr==rev and le>maxle:\n",
    "            maxle=le\n",
    "            temp=newstr    \n",
    "        newstr=\"\"\n",
    "if(maxle>1):\n",
    "    print(\"LONGEST SUBSTRING: \",temp)\n",
    "else:\n",
    "    print(\"LONGEST SUBSTRING: \",string[0])       "
   ]
  },
  {
   "cell_type": "code",
   "execution_count": 86,
   "metadata": {},
   "outputs": [
    {
     "name": "stdout",
     "output_type": "stream",
     "text": [
      "Enter string: 1110111011\n",
      "Enter other string: 10011\n",
      "0\n"
     ]
    }
   ],
   "source": [
    "#16. Substring Check (Bug Funny)Given two binary strings, A (of length 10) and B (of length 5), output 1 if B is a substring of A and 0 otherwise.First two lines of input:1010110010          101101110111011           10011First two lines of output:10\n",
    "string=input(\"Enter string: \")\n",
    "sub=input(\"Enter other string: \")\n",
    "if sub in string:\n",
    "    print(\"1\")\n",
    "else:\n",
    "    print(\"0\")"
   ]
  },
  {
   "cell_type": "code",
   "execution_count": 6,
   "metadata": {},
   "outputs": [
    {
     "name": "stdout",
     "output_type": "stream",
     "text": [
      "Enter value of A: 3\n",
      "Enter value of B: 2\n",
      "Enter value of C: 1\n",
      "Minimum number of steps required is 2\n"
     ]
    }
   ],
   "source": [
    "#17. POUR1 - Pouring waterGiven two vessels, one of which can accommodate a litres of water and the other - b litres   of   water,   determine   the   number   of   steps   required   to   obtain exactly c litres of water in one of the vessels.At the beginning both vessels are empty. The following operations are counted as 'steps':emptying a vessel,filling a vessel,pouring water from one vessel to the other, without spilling, until one of the vessels is either full or empty.\n",
    " \n",
    "def gcd(a, b): \n",
    "    if b==0: \n",
    "        return a \n",
    "    return gcd(b, a%b) \n",
    "\n",
    "def Pour(toVesselCap, fromVesselCap, d): \n",
    "\n",
    "    fromVessel = fromVesselCap \n",
    "    toVessel = 0\n",
    "\n",
    "    step = 1\n",
    "    while ((fromVessel !=d) and (toVessel != d)): \n",
    "\n",
    "        temp = min(fromVessel, toVesselCap-toVessel) \n",
    "\n",
    "        toVessel = toVessel + temp \n",
    "        fromVessel = fromVessel - temp \n",
    "\n",
    "        step = step + 1\n",
    "        if ((fromVessel == d) or (toVessel == d)): \n",
    "            break\n",
    "\n",
    "        if fromVessel == 0: \n",
    "            fromVessel = fromVesselCap \n",
    "            step = step + 1\n",
    "\n",
    "        if toVessel == toVesselCap: \n",
    "            toVessel = 0\n",
    "            step = step + 1\n",
    "    return step \n",
    "\n",
    "def minSteps(n, m, d): \n",
    "    if m> n: \n",
    "        temp = m \n",
    "        m = n \n",
    "        n = temp \n",
    "\n",
    "    if (d%(gcd(n,m)) != 0): \n",
    "        return -1 \n",
    "    return(min(Pour(n,m,d), Pour(m,n,d))) \n",
    "a=int(input(\"Enter value of A: \"))\n",
    "b=int(input(\"Enter value of B: \")) \n",
    "c=int(input(\"Enter value of C: \")) \n",
    "print('Minimum number of steps required is', minSteps(a, b, c)) \n"
   ]
  }
 ],
 "metadata": {
  "kernelspec": {
   "display_name": "Python 3",
   "language": "python",
   "name": "python3"
  },
  "language_info": {
   "codemirror_mode": {
    "name": "ipython",
    "version": 3
   },
   "file_extension": ".py",
   "mimetype": "text/x-python",
   "name": "python",
   "nbconvert_exporter": "python",
   "pygments_lexer": "ipython3",
   "version": "3.8.3"
  }
 },
 "nbformat": 4,
 "nbformat_minor": 4
}
